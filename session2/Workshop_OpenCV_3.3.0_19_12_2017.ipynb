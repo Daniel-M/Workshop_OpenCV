{
 "cells": [
  {
   "cell_type": "markdown",
   "metadata": {
    "slideshow": {
     "slide_type": "slide"
    }
   },
   "source": [
    "# Taller de OpenCV 3.3.0 con Python 3\n",
    "# Entrenando un clasificador por cascada de Haar\n",
    "## Daniel Mejía Raigosa\n",
    "### danielmejia55@gmail.com\n",
    "#### Diciembre 19, 2017"
   ]
  },
  {
   "cell_type": "markdown",
   "metadata": {
    "slideshow": {
     "slide_type": "slide"
    }
   },
   "source": [
    "# Daniel Mejía Raigosa\n",
    "\n",
    "### https://github.com/Daniel-M/Workshop_OpenCV\n",
    "\n",
    "* https://daniel-m.github.io/\n",
    "* https://github.com/Daniel-M\n",
    "* https://bitbucket.org/Daniel-M"
   ]
  },
  {
   "cell_type": "markdown",
   "metadata": {
    "slideshow": {
     "slide_type": "slide"
    }
   },
   "source": [
    "![PageTitlePaper](images/ViolaPaper.png)"
   ]
  },
  {
   "cell_type": "markdown",
   "metadata": {
    "slideshow": {
     "slide_type": "subslide"
    }
   },
   "source": [
    "\"*The first contribution of this paper is a new image representation called an integral image that allows for very fast\n",
    "feature evaluation. Motivated in part by the work of Papageorgiou et al. our detection system does not work directly\n",
    "with image intensities [10]. Like these authors we use a\n",
    "set of features which are reminiscent of Haar Basis functions (though we will also use related filters which are more\n",
    "complex than Haar filters). In order to compute these features very rapidly at many scales we introduce the integral\n",
    "image representation for images. The integral image can be\n",
    "computed from an image using a few operations per pixel.\n",
    "Once computed, any one of these Harr-like features can be\n",
    "computed at any scale or location in constant time.\n",
    "*\" "
   ]
  },
  {
   "cell_type": "markdown",
   "metadata": {
    "slideshow": {
     "slide_type": "subslide"
    }
   },
   "source": [
    "# Imagen Integral\n",
    "\n",
    "$$\n",
    "ii(x,y) = \\sum_{\\alpha \\leq x,\\, \\beta \\leq y} i(\\alpha,\\beta)\n",
    "$$\n",
    "\n",
    "![IntegralImage](images/integralImage.png)"
   ]
  },
  {
   "cell_type": "markdown",
   "metadata": {
    "slideshow": {
     "slide_type": "subslide"
    }
   },
   "source": [
    "\"*The second contribution of this paper is a method for\n",
    "constructing a classifier by selecting a small number of important features using AdaBoost [6]. Within any image subwindow the total number of Harr-like features is very large,\n",
    "far larger than the number of pixels. In order to ensure fast\n",
    "classification, the learning process must exclude a large majority of the available features, and focus on a small set of\n",
    "critical features. Motivated by the work of Tieu and Viola,\n",
    "*\""
   ]
  },
  {
   "cell_type": "markdown",
   "metadata": {
    "slideshow": {
     "slide_type": "subslide"
    }
   },
   "source": [
    "\"*The third major contribution of this paper is a method\n",
    "for combining successively more complex classifiers in a\n",
    "cascade structure which dramatically increases the speed of\n",
    "the detector by focusing attention on promising regions of\n",
    "the image.\"*"
   ]
  },
  {
   "cell_type": "markdown",
   "metadata": {
    "slideshow": {
     "slide_type": "subslide"
    }
   },
   "source": [
    "\"*The simple features used are reminiscent of Haar basis\n",
    "functions which have been used by Papageorgiou et al. [10].\n",
    "More specifically, we use three kinds of features. The value\n",
    "of a two-rectangle feature is the difference between the sum\n",
    "of the pixels within two rectangular regions. The regions\n",
    "have the same size and shape and are horizontally or vertically adjacent (see Figure 1). A three-rectangle feature\n",
    "computes the sum within two outside rectangles subtracted\n",
    "from the sum in a center rectangle. Finally a four-rectangle\n",
    "feature computes the difference between diagonal pairs of\n",
    "rectangles.\n",
    "Given that the base resolution of the detector is 24x24,\n",
    "the exhaustive set of rectangle features is quite large, over\n",
    "180,000 . Note that unlike the Haar basis, the set of rectangle features is overcomplete 1.*\" "
   ]
  },
  {
   "cell_type": "markdown",
   "metadata": {
    "slideshow": {
     "slide_type": "slide"
    }
   },
   "source": [
    "# Funciones en la base Haar\n",
    "\n",
    "$$\n",
    "\\psi(x) = \n",
    "\\left\\{\n",
    "\\begin{array}{c c}\n",
    "1 & 0 \\leq x < \\frac{1}{2} \\\\\n",
    "-1 & \\frac{1}{2} \\leq x < 1 \\\\\n",
    "0 & \\text{lo demás}\n",
    "\\end{array}\n",
    "\\right.\n",
    "$$\n",
    "\n",
    "Se tiene la base Haar como,\n",
    "\n",
    "$$\n",
    "{\\psi}_{j\\,k} (x) = \\psi \\left({2}^{j} \\, x - 1\\right) \\qquad 0 \\leq k \\leq {2}^{j} \\, x - 1\n",
    "$$"
   ]
  },
  {
   "cell_type": "code",
   "execution_count": 1,
   "metadata": {
    "slideshow": {
     "slide_type": "skip"
    }
   },
   "outputs": [],
   "source": [
    "import matplotlib.pyplot as plt\n",
    "import numpy as np"
   ]
  },
  {
   "cell_type": "code",
   "execution_count": 2,
   "metadata": {
    "slideshow": {
     "slide_type": "skip"
    }
   },
   "outputs": [],
   "source": [
    "def psi(x):\n",
    "    res = 0\n",
    "    if 0 < x and x < 0.5:\n",
    "        res = 1\n",
    "    elif 0.5 < x and x < 1:\n",
    "        res = -1\n",
    "    return res\n",
    "\n",
    "def psi_jk(x,j,k):\n",
    "    res = psi(np.power(2,j)*x - k)\n",
    "    return res"
   ]
  },
  {
   "cell_type": "code",
   "execution_count": 3,
   "metadata": {
    "slideshow": {
     "slide_type": "subslide"
    }
   },
   "outputs": [
    {
     "data": {
      "image/png": "[encoded data removed]",
      "text/plain": [
       "<matplotlib.figure.Figure at 0x7efd2eb88d30>"
      ]
     },
     "metadata": {},
     "output_type": "display_data"
    }
   ],
   "source": [
    "x = np.linspace(0,1.1,num=100)\n",
    "y = [psi(i) for i in x]\n",
    "\n",
    "plt.title(\"Haar basis function $\\psi(x)$\")\n",
    "plt.xlabel(\"x\")\n",
    "plt.ylabel(\"$\\psi(x)$\")\n",
    "plt.plot(x,y)\n",
    "plt.show()"
   ]
  },
  {
   "cell_type": "code",
   "execution_count": 4,
   "metadata": {
    "slideshow": {
     "slide_type": "skip"
    }
   },
   "outputs": [],
   "source": [
    "x = np.linspace(0,1.1,num=100)\n",
    "y00 = [psi_jk(i,0,0) for i in x]\n",
    "y10 = [psi_jk(i,1,0) for i in x]\n",
    "y11 = [psi_jk(i,1,1) for i in x]\n",
    "y20 = [psi_jk(i,2,0) for i in x]\n",
    "y21 = [psi_jk(i,2,1) for i in x]\n",
    "y22 = [psi_jk(i,2,2) for i in x]\n",
    "y23 = [psi_jk(i,2,3) for i in x]"
   ]
  },
  {
   "cell_type": "code",
   "execution_count": 5,
   "metadata": {
    "slideshow": {
     "slide_type": "subslide"
    }
   },
   "outputs": [
    {
     "data": {
      "image/png": "[encoded data removed]",
      "text/plain": [
       "<matplotlib.figure.Figure at 0x7efd2caf65c0>"
      ]
     },
     "metadata": {},
     "output_type": "display_data"
    }
   ],
   "source": [
    "plt.title(\"Haar basis function ${\\psi}_{00}(x)$\")\n",
    "plt.xlabel(\"x\")\n",
    "plt.ylabel(\"${\\psi}_{00}(x)$\")\n",
    "plt.plot(x,y00)\n",
    "plt.show()"
   ]
  },
  {
   "cell_type": "code",
   "execution_count": 6,
   "metadata": {
    "slideshow": {
     "slide_type": "subslide"
    }
   },
   "outputs": [
    {
     "data": {
      "image/png": "[encoded data removed]",
      "text/plain": [
       "<matplotlib.figure.Figure at 0x7efd2c9f9cc0>"
      ]
     },
     "metadata": {},
     "output_type": "display_data"
    }
   ],
   "source": [
    "plt.title(\"Haar basis function ${\\psi}_{10}(x)$\")\n",
    "plt.xlabel(\"x\")\n",
    "plt.ylabel(\"${\\psi}_{10}(x)$\")\n",
    "plt.plot(x,y10)\n",
    "plt.show()"
   ]
  },
  {
   "cell_type": "code",
   "execution_count": 7,
   "metadata": {
    "slideshow": {
     "slide_type": "subslide"
    }
   },
   "outputs": [
    {
     "data": {
      "image/png": "[encoded data removed]",
      "text/plain": [
       "<matplotlib.figure.Figure at 0x7efd2c90b860>"
      ]
     },
     "metadata": {},
     "output_type": "display_data"
    }
   ],
   "source": [
    "plt.title(\"Haar basis function ${\\psi}_{11}(x)$\")\n",
    "plt.xlabel(\"x\")\n",
    "plt.ylabel(\"${\\psi}_{11}(x)$\")\n",
    "plt.plot(x,y11)\n",
    "plt.show()"
   ]
  },
  {
   "cell_type": "code",
   "execution_count": 8,
   "metadata": {
    "slideshow": {
     "slide_type": "subslide"
    }
   },
   "outputs": [
    {
     "data": {
      "image/png": "[encoded data removed]",
      "text/plain": [
       "<matplotlib.figure.Figure at 0x7efd2c92d2b0>"
      ]
     },
     "metadata": {},
     "output_type": "display_data"
    }
   ],
   "source": [
    "plt.title(\"Haar basis function ${\\psi}_{20}(x)$\")\n",
    "plt.xlabel(\"x\")\n",
    "plt.ylabel(\"${\\psi}_{20}(x)$\")\n",
    "plt.plot(x,y20)\n",
    "plt.show()"
   ]
  },
  {
   "cell_type": "code",
   "execution_count": 9,
   "metadata": {
    "slideshow": {
     "slide_type": "subslide"
    }
   },
   "outputs": [
    {
     "data": {
      "image/png": "[encoded data removed]",
      "text/plain": [
       "<matplotlib.figure.Figure at 0x7efd2c8f6080>"
      ]
     },
     "metadata": {},
     "output_type": "display_data"
    }
   ],
   "source": [
    "plt.title(\"Haar basis function ${\\psi}_{21}(x)$\")\n",
    "plt.xlabel(\"x\")\n",
    "plt.ylabel(\"${\\psi}_{21}(x)$\")\n",
    "plt.plot(x,y21)\n",
    "plt.show()"
   ]
  },
  {
   "cell_type": "code",
   "execution_count": 10,
   "metadata": {
    "slideshow": {
     "slide_type": "subslide"
    }
   },
   "outputs": [
    {
     "data": {
      "image/png": "[encoded data removed]",
      "text/plain": [
       "<matplotlib.figure.Figure at 0x7efd2c862898>"
      ]
     },
     "metadata": {},
     "output_type": "display_data"
    }
   ],
   "source": [
    "plt.title(\"Haar basis function ${\\psi}_{22}(x)$\")\n",
    "plt.xlabel(\"x\")\n",
    "plt.ylabel(\"${\\psi}_{22}(x)$\")\n",
    "plt.plot(x,y22)\n",
    "plt.show()"
   ]
  },
  {
   "cell_type": "code",
   "execution_count": 11,
   "metadata": {
    "slideshow": {
     "slide_type": "subslide"
    }
   },
   "outputs": [
    {
     "data": {
      "image/png": "[encoded data removed]",
      "text/plain": [
       "<matplotlib.figure.Figure at 0x7efd2cb2bd30>"
      ]
     },
     "metadata": {},
     "output_type": "display_data"
    }
   ],
   "source": [
    "plt.title(\"Haar basis function ${\\psi}_{23}(x)$\")\n",
    "plt.xlabel(\"x\")\n",
    "plt.ylabel(\"${\\psi}_{23}(x)$\")\n",
    "plt.plot(x,y23)\n",
    "plt.show()"
   ]
  },
  {
   "cell_type": "markdown",
   "metadata": {
    "slideshow": {
     "slide_type": "subslide"
    }
   },
   "source": [
    "\"*Recall that there are over 180,000 rectangle features as-\n",
    "sociated with each image sub-window, a number far larger\n",
    "than the number of pixels. Even though each feature can\n",
    "be computed very efficiently, computing the complete set is\n",
    "prohibitively expensive. Our hypothesis, which is borne out\n",
    "by experiment, is that a very small number of these features\n",
    "can be combined to form an effective classifier. The main\n",
    "challenge is to find these features.\n",
    "In support of this goal, the weak learning algorithm is\n",
    "designed to select the single rectangle feature which best\n",
    "separates the positive and negative examples*\""
   ]
  },
  {
   "cell_type": "markdown",
   "metadata": {
    "slideshow": {
     "slide_type": "slide"
    }
   },
   "source": [
    "# Detección de características\n",
    "\n",
    "![featureSelection](images/featureSelection.png)"
   ]
  },
  {
   "cell_type": "markdown",
   "metadata": {
    "slideshow": {
     "slide_type": "slide"
    }
   },
   "source": [
    "# Entrenando un clasificador de cascada con HAAR\n",
    "\n",
    "En OpenCV un clasificador es un algoritmo que puede ser entrenado para detectar cierto objeto particular de nuestro interés (ODI) si se provee una cantidad suficiente de ejemplos del mismo en imágenes. Hasta donde entiendo el clasificador es binario proporcionando un resultado positivo si el objeto de interés se encuentra en una región determinada de la imagen, o negativo de otro modo.\n",
    "El nombre completo del clasificador que voy a documentar es _cascade of boosted classifiers working with haar-like features_. El nombre _cascade boosted_ hace referencia a que se trata de un conjunto de clasificadores más simple que se aplican en secuencial, y el _boosted_ proviene de determinadas técnicas aplicadas sobre los clasificadores cuya minucia escapa a mi conocimiento al momento de escribir estas líneas."
   ]
  },
  {
   "cell_type": "markdown",
   "metadata": {
    "slideshow": {
     "slide_type": "subslide"
    }
   },
   "source": [
    "## Conjunto de datos de entrenamiento\n",
    "\n",
    "Para entrenar un clasificador con OpenCV se requiere dos conjuntos de datos, a saber,\n",
    "\n",
    "* Imágenes negativas\n",
    "* Imágenes positivas\n",
    "\n",
    "### Imágenes negativas\n",
    "Imágenes donde el objeto de interés(ODI) no está presente. Pueden, y suelen ser, imágenes aleatorias siempre y cuando no contengan el ODI. Se debe proporcionar un archivo con la ruta absoluta a cada imagen negativa. Por ejemplo, el contenido de `negatives.txt` podría ser,"
   ]
  },
  {
   "cell_type": "markdown",
   "metadata": {
    "slideshow": {
     "slide_type": "fragment"
    }
   },
   "source": [
    "```\n",
    "negative_img/img1.jpg\n",
    "negative_img/img2.jpg\n",
    "```"
   ]
  },
  {
   "cell_type": "markdown",
   "metadata": {
    "slideshow": {
     "slide_type": "subslide"
    }
   },
   "source": [
    "### Imágenes positivas\n",
    "Imagenes que contienen el ODI bien determinado y encuadrado. Es posible disponer de imágenes con la presencia de uno o más ODI cuya ubicación dentro de la imagen puede ser _comentada_ para su uso durante el entrenamiento. El proceso de _comentado_ se puede hacer manualmente indicado para cada imagen:\n",
    "* La cantidad de objetos (un número entero).  \n",
    "* las coordenadas `(px,py,lx,ly)` de la caja que encierra a cada objeto, siendo `(px,py)` a la esquina superior izquierda, y `(lx,ly)` longitudes horizontal y vertical correspondientemente.  "
   ]
  },
  {
   "cell_type": "markdown",
   "metadata": {
    "slideshow": {
     "slide_type": "subslide"
    }
   },
   "source": [
    "## Construcción del conjuntos de datos\n",
    "\n",
    "La manera más sencilla es disponer de un conjunto de datos es acceder a imagenes seleccionadas previamente clasificadas en alguna base de datos. Normalmente no existen bases de datos para el objeto que nos interese detectar, sin embargo, esta opción está abierta para cuando queramos probar con datos conocidos y estudiados.\n",
    "\n",
    "El conjunto de datos puede construirse de varias formas, las cuales se detallan a continuación."
   ]
  },
  {
   "cell_type": "markdown",
   "metadata": {
    "slideshow": {
     "slide_type": "subslide"
    }
   },
   "source": [
    "### Creando lista de imágenes negativas"
   ]
  },
  {
   "cell_type": "markdown",
   "metadata": {
    "slideshow": {
     "slide_type": "fragment"
    }
   },
   "source": [
    "La lista de imagenes negativas puede construirse guardando todas las imágenes que no contengan en ODI en un directorio, digamos `neg` y posteriormente crear la lista de archivos utilizando bash\n",
    "\n",
    "```\n",
    "find neg -type f -name *.png > negatives_image_list.txt\n",
    "```"
   ]
  },
  {
   "cell_type": "markdown",
   "metadata": {
    "slideshow": {
     "slide_type": "fragment"
    }
   },
   "source": [
    "Lo cual puede producir un archivo con el siguiente contenido,\n",
    "\n",
    "```\n",
    "neg/img1.png\n",
    "neg/img2.png\n",
    "```"
   ]
  },
  {
   "cell_type": "markdown",
   "metadata": {
    "slideshow": {
     "slide_type": "subslide"
    }
   },
   "source": [
    "### Creando lista de imágenes positivas\n",
    "\n",
    "Se pueden crear muestras positivas mediante cualquiera de las opciones siguientes,  \n",
    "\n",
    "* Disponer de una imagen positiva con el ODI y generar más muestras con la herramienta `opencv_createsamples`\n",
    "* Disponer de un conjunto de imágenes que contengan el ODI y recortarlas sea manualmente.  \n",
    "* Disponer de un conjunto de imágenes que contengan el ODI y utilizar la herramienta `opencv_annotation` para _comentar_ la ubicación del ODI dentro de un conjunto de imágenes. Esta herramienta crea el archivo con la ruta a las imagenes y los _comentarios_ correspondientes. Esta herramienta abre cada imagen dentro de un directorio y nos permite elegir manualmente la caja que encierra cada ocurrencia del ODI."
   ]
  },
  {
   "cell_type": "markdown",
   "metadata": {
    "slideshow": {
     "slide_type": "subslide"
    }
   },
   "source": [
    "#### Desde una imagen positiva con el ODI y generar más muestras con la herramienta `opencv_createsamples`\n",
    "\n",
    "Tener una imagen que, después de un conjunto de transformaciones y mediante el uso de un conjunto de imagenes de background (las cuales pueden ser las negativas) puede producir imagenes de entrenamiento adicionales mediante la herramienta `opencv_createsamples` el cual recibe las siguientes opciones, \n",
    "\n",
    "```\n",
    "opencv_createsamples command line arguments:\n",
    "\n",
    "-vec <vec_file_name> : Name of the output file containing the positive samples for training.\n",
    "-img <image_file_name> : Source object image (e.g., a company logo).\n",
    "-bg <background_file_name> : Background description file; contains a list of images which are used as a background for randomly distorted versions of the object.\n",
    "-num <number_of_samples> : Number of positive samples to generate.\n",
    "-bgcolor <background_color> : Background color (currently grayscale images are assumed); the background color denotes the transparent color. Since there might be compression artifacts, the amount of color tolerance can be specified by -bgthresh. All pixels withing bgcolor-bgthresh and bgcolor+bgthresh range are interpreted as transparent.\n",
    "-bgthresh <background_color_threshold>\n",
    "-inv : If specified, colors will be inverted.\n",
    "-randinv : If specified, colors will be inverted randomly.\n",
    "-maxidev <max_intensity_deviation> : Maximal intensity deviation of pixels in foreground samples.\n",
    "-maxxangle <max_x_rotation_angle> : Maximal rotation angle towards x-axis, must be given in radians.\n",
    "-maxyangle <max_y_rotation_angle> : Maximal rotation angle towards y-axis, must be given in radians.\n",
    "-maxzangle <max_z_rotation_angle> : Maximal rotation angle towards z-axis, must be given in radians.\n",
    "-show : Useful debugging option. If specified, each sample will be shown. Pressing Esc will continue the samples creation process without showing each sample.\n",
    "-w <sample_width> : Width (in pixels) of the output samples.\n",
    "-h <sample_height> : Height (in pixels) of the output samples.\n",
    "```\n",
    "\n",
    "Este método es recomendado cuando el ODI es un objeto rígido que no cambia de morfología, por ejemplo, un logotipo. Esto debido a que `opencv_createsamples` produce transformaciones de percepción las cuales no contemplan cambios de forma."
   ]
  },
  {
   "cell_type": "markdown",
   "metadata": {
    "slideshow": {
     "slide_type": "subslide"
    }
   },
   "source": [
    "#### Disponer de un conjunto de imágenes que contengan el ODI y anotarlas manualmente\n",
    "\n",
    "Este proceso puede lograrse de muchas formas diferentes y escapa a mi interés detallarlo, sin embargo, al final debemos tener una lista de imágenes,"
   ]
  },
  {
   "cell_type": "markdown",
   "metadata": {
    "slideshow": {
     "slide_type": "fragment"
    }
   },
   "source": [
    "```\n",
    "pos/img1.jpg  1  140 100 45 45\n",
    "pos/img2.jpg  2  100 200 50 50   50 30 25 25\n",
    "```"
   ]
  },
  {
   "cell_type": "markdown",
   "metadata": {
    "slideshow": {
     "slide_type": "subslide"
    }
   },
   "source": [
    "#### Disponer de un conjunto de imágenes del mismo tamaño que contengan el ODI (y solo uno)\n",
    "\n",
    "Este proceso puede lograrse de muchas formas diferentes y escapa a mi interés detallarlo. Por ejemplo si las imagenes del ODI son de 45x45, debemos tener una lista de imágenes en `positives.txt` como,"
   ]
  },
  {
   "cell_type": "markdown",
   "metadata": {
    "slideshow": {
     "slide_type": "fragment"
    }
   },
   "source": [
    "```\n",
    "pos/img1.jpg  1  0 0 45 45\n",
    "pos/img2.jpg  1  0 0 45 45\n",
    "```"
   ]
  },
  {
   "cell_type": "markdown",
   "metadata": {
    "slideshow": {
     "slide_type": "subslide"
    }
   },
   "source": [
    "#### Disponer de un conjunto de imágenes que contengan el ODI y utilizar la herramienta `opencv_annotation`\n",
    "\n",
    "La herramienta de anotación o comentado es `opencv_annotation`. El proceso consiste en tener todas las imagenes bajo un directorio, digamos `pos`.\n",
    "\n",
    "```\n",
    "project/pos/\n",
    "            img1.jpg\n",
    "            img2.jpg\n",
    "project/annotations.txt\n",
    "```\n",
    "\n",
    "e invocando con las rutas absolutas,\n",
    "\n",
    "```\n",
    "opencv_annotation --annotations=/full_path_to/project/annotations.txt --images=/full_path_to/project/pos\n",
    "```\n",
    "\n",
    "Lo cual abrirá una interfaz que mostrará las siguientes opciones en la consola\n",
    "\n",
    "```\n",
    "* mark rectangles with the left mouse button,\n",
    "* press 'c' to accept a selection,\n",
    "* press 'd' to delete the latest selection,\n",
    "* press 'n' to proceed with next image,\n",
    "* press 'esc' to stop.\n",
    "```\n",
    "\n",
    "Además de mostrar la interfaz (el ODI ha sido ya seleccionado y confirmado con `c`, por eso se muestra el rectángulo verde),"
   ]
  },
  {
   "cell_type": "markdown",
   "metadata": {
    "slideshow": {
     "slide_type": "subslide"
    }
   },
   "source": [
    "![Interfaz de anotación](images/annotation_tool.png)\n",
    "\n",
    "y mediante una paciente selección del ODI en cada imagen terminaremos con un archivo adecuadamente anotado."
   ]
  },
  {
   "cell_type": "markdown",
   "metadata": {
    "slideshow": {
     "slide_type": "subslide"
    }
   },
   "source": [
    "## Creando archivo binario `vec` con las muestras (samples) anotadas previamente"
   ]
  },
  {
   "cell_type": "markdown",
   "metadata": {
    "slideshow": {
     "slide_type": "fragment"
    }
   },
   "source": [
    "Para crear el archivo binario con el cual se entrenará la cascada se requiere del conjunto de imágenes positivas correctamente anotado como se indicó anteriormente. Dado que se dispone de un conjunto de imagenes positivas anotadas, se procede a utilizar la herramienta `opencv_createsamples`(ver más arriba) pero ingresando el argumento `-info` indicando el archivo que contiene las anotaciones. Al usar `-info` el resto de opciones quedan invalidadas y son ignoradas, excepto, las opciones  `-w`, `-h`, `-show` y `-num`.\n",
    "\n",
    "En nuestro caso lo habíamos llamado `positives.txt`. Queremos visualizar el entrenamiento utilizando muestras (samples) de 28x28, que serán guardadas en el archivo binario `samples_train.vec`. Se utiliza la herramienta `opencv_createsamples` como sigue,"
   ]
  },
  {
   "cell_type": "markdown",
   "metadata": {
    "slideshow": {
     "slide_type": "fragment"
    }
   },
   "source": [
    "```\n",
    "opencv_createsamples -info positives.txt -vec samples_train.vec -w 28 -h 28 -num 1000\n",
    "```"
   ]
  },
  {
   "cell_type": "markdown",
   "metadata": {
    "slideshow": {
     "slide_type": "fragment"
    }
   },
   "source": [
    "Donde las opciones indican que las imagenes generadas van a tener un tamaño de 28x28 en el archivo binario `samples_train.vec` y que se generarán 1000 samples"
   ]
  },
  {
   "cell_type": "markdown",
   "metadata": {
    "slideshow": {
     "slide_type": "subslide"
    }
   },
   "source": [
    "## Entrenando la cascada\n",
    "\n",
    "El proceso de entrenamiento consiste de un número dado de *stages* (20 por defecto) a través de los cuales se va mejorando el clasificador. El resultado de cada stage se almacena en un archivo xml específico de OpenCV. al finalizar el entrenamiento la cascada completa se almacena en un archivo con nombre \"cascade.xml\"(**Nota:** No estoy seguro si este nombre se hereda del nombre de la carpeta que almacena los directorios.)\n",
    "Para inciar el entrenamiento de la casacada es necesario crear el directorio donde se alamacenarán los xml.\n",
    "orre el siguiente comando"
   ]
  },
  {
   "cell_type": "markdown",
   "metadata": {
    "slideshow": {
     "slide_type": "subslide"
    }
   },
   "source": [
    "Para entrenar la cascada solo resta utilizar el binario anterior, las imagenes negativas, y crear un directorio en el cual se almacenarán los xml de cada stage del entrenamiento.\n",
    "La herramienta que se utilizará es `opencv_traincascade` la cual contiene el conjunto de opciones\n",
    "\n",
    "```\n",
    "opencv_traincascade common arguments:\n",
    "-data <cascade_dir_name> : Where the trained classifier should be stored. This folder should be created manually beforehand.\n",
    "-vec <vec_file_name> : vec-file with positive samples (created by opencv_createsamples utility).\n",
    "-bg <background_file_name> : Background description file. This is the file containing the negative sample images.\n",
    "-numPos <number_of_positive_samples> : Number of positive samples used in training for every classifier stage.\n",
    "-numNeg <number_of_negative_samples> : Number of negative samples used in training for every classifier stage.\n",
    "-numStages <number_of_stages> : Number of cascade stages to be trained.\n",
    "-precalcValBufSize <precalculated_vals_buffer_size_in_Mb> : Size of buffer for precalculated feature values (in Mb). The more memory you assign the faster the training process, however keep in mind that -precalcValBufSize and -precalcIdxBufSize combined should not exceed you available system memory.\n",
    "-precalcIdxBufSize <precalculated_idxs_buffer_size_in_Mb> : Size of buffer for precalculated feature indices (in Mb). The more memory you assign the faster the training process, however keep in mind that -precalcValBufSize and -precalcIdxBufSize combined should not exceed you available system memory.\n",
    "```"
   ]
  },
  {
   "cell_type": "markdown",
   "metadata": {
    "slideshow": {
     "slide_type": "subslide"
    }
   },
   "source": [
    "```\n",
    "-baseFormatSave : This argument is actual in case of Haar-like features. If it is specified, the cascade will be saved in the old format. This is only available for backwards compatibility reasons and to allow users stuck to the old deprecated interface, to at least train models using the newer interface.\n",
    "-numThreads <max_number_of_threads> : Maximum number of threads to use during training. Notice that the actual number of used threads may be lower, depending on your machine and compilation options. By default, the maximum available threads are selected if you built OpenCV with TBB support, which is needed for this optimization.\n",
    "-acceptanceRatioBreakValue <break_value> : This argument is used to determine how precise your model should keep learning and when to stop. A good guideline is to train not further than 10e-5, to ensure the model does not overtrain on your training data. By default this value is set to -1 to disable this feature.\n",
    "Cascade parameters:\n",
    "-stageType <BOOST(default)> : Type of stages. Only boosted classifiers are supported as a stage type at the moment.\n",
    "-featureType<{HAAR(default), LBP}> : Type of features: HAAR - Haar-like features, LBP - local binary patterns.\n",
    "-w <sampleWidth> : Width of training samples (in pixels). Must have exactly the same value as used during training samples creation (opencv_createsamples utility).\n",
    "-h <sampleHeight> : Height of training samples (in pixels). Must have exactly the same value as used during training samples creation (opencv_createsamples utility).\n",
    "Boosted classifer parameters:\n",
    "-bt <{DAB, RAB, LB, GAB(default)}> : Type of boosted classifiers: DAB - Discrete AdaBoost, RAB - Real AdaBoost, LB - LogitBoost, GAB - Gentle AdaBoost.\n",
    "-minHitRate <min_hit_rate> : Minimal desired hit rate for each stage of the classifier. Overall hit rate may be estimated as (min_hit_rate ^ number_of_stages)\n",
    "```"
   ]
  },
  {
   "cell_type": "markdown",
   "metadata": {
    "slideshow": {
     "slide_type": "subslide"
    }
   },
   "source": [
    "```\n",
    "mkdir cascade\n",
    "opencv_traincascade -data cascade/ -vec samples_train.vec -bg negatives.txt -w 28 -h 28 -numPos 42\n",
    "```"
   ]
  },
  {
   "cell_type": "markdown",
   "metadata": {
    "slideshow": {
     "slide_type": "subslide"
    }
   },
   "source": [
    "Nos debe mostrar un mensaje\n",
    "\n",
    "```\n",
    "PARAMETERS:\n",
    "cascadeDirName: /home/damejia/Escritorio/pina_training/cup_HAAR/cascade/\n",
    "vecFileName: /home/damejia/Escritorio/pina_training/cup_HAAR/sampled_vector.vec\n",
    "bgFileName: /home/damejia/Escritorio/pina_training/cup_HAAR/negative_images.txt\n",
    "numPos: 42\n",
    "numNeg: 1000\n",
    "numStages: 20\n",
    "precalcValBufSize[Mb] : 1024\n",
    "precalcIdxBufSize[Mb] : 1024\n",
    "acceptanceRatioBreakValue : -1\n",
    "stageType: BOOST\n",
    "featureType: HAAR\n",
    "sampleWidth: 24\n",
    "sampleHeight: 24\n",
    "boostType: GAB\n",
    "minHitRate: 0.995\n",
    "maxFalseAlarmRate: 0.5\n",
    "weightTrimRate: 0.95\n",
    "maxDepth: 1\n",
    "maxWeakCount: 100\n",
    "mode: BASIC\n",
    "Number of unique features given windowSize [24,24] : 162336\n",
    "\n",
    "===== TRAINING 0-stage =====\n",
    "<BEGIN\n",
    "POS count : consumed   42 : 42\n",
    "NEG count : acceptanceRatio    1000 : 1\n",
    "\n",
    "```"
   ]
  },
  {
   "cell_type": "markdown",
   "metadata": {
    "slideshow": {
     "slide_type": "slide"
    }
   },
   "source": [
    "## Sobre la relación entre positivas y negativas para el entrenamiento\n",
    "\n",
    "La referencia [10] sugiere que la relación entre positivas y negativas debe aproximadamente 2:1 es decir positivas:negativas ~ 2:1\n",
    "\n",
    "Sin embargo, la referencia [9] discute que hay una relación matemática de caracter general entre el número de imagenes negativas `numNeg` y el número de imagenes positivas que se pueden ingresar `numPos`, dada la disponibilidad de imágenes positivas en el conjunto de datos.\n",
    "\n",
    "La relación es más o menos la siguiente\n",
    "\n",
    "$$\n",
    "\\text{Available data} \\ge \\text{numPos} (1 + (\\text{numStages} - 1)(1-\\text{minHitRate})) + \\text{S}\n",
    "$$\n",
    "\n",
    "Donde $S$ es el número de muestras que puede identificarse como background en el archivo vectorial. Supongo que hacen referencia al número de negativas pues en el archivo vectorial solo se almacenan positivas. En lo que sigue está un fragmento de la mencionada referencia,"
   ]
  },
  {
   "cell_type": "markdown",
   "metadata": {
    "slideshow": {
     "slide_type": "subslide"
    }
   },
   "source": [
    "Tomado de [9]\n",
    "    \n",
    "    The problem is that your vec-file has exactly the same samples count that you passed in command line -numPos 979. Training application used all samples from the vec-file to train 0-stage and it can not get new positive samples for the next stage training because vec-file is over. The bug of traincascade is that it had assert() in such cases, but it has to throw an exception with error message for a user. It was fixed in r8913. -numPose is a samples count that is used to train each stage. Some already used samples can be filtered by each previous stage (ie recognized as background), but no more than (1 - minHitRate) * numPose on each stage. So vec-file has to contain >= (numPose + (numStages-1) * (1 - minHitRate) * numPose) + S, where S is a count of samples from vec-file that can be recognized as background right away. I hope it can help you to create vec-file of correct size and chose right numPos value."
   ]
  },
  {
   "cell_type": "markdown",
   "metadata": {
    "slideshow": {
     "slide_type": "subslide"
    }
   },
   "source": [
    "It worked for me. I also had same problem, I was following the famous tutorial on HAAR training but wanted to try the newer training utility with -npos 7000 -nneg 2973\n",
    "\n",
    "so i did following calcs:\n",
    "\n",
    "vec-file has to contain >= (numPos + (numStages-1) * (1 - minHitRate) * numPos) + S\n",
    "\n",
    "    7000 >= (numPos + (20-1) * (1 - 0.999) * numPos) + 2973\n",
    "\n",
    "    (7000 - 2973)/(1 + 19*0.001) >= numPos\n",
    "\n",
    "    numPos <= 4027/1.019\n",
    "\n",
    "    numPos <= 3951 ~~ 3950\n",
    "    and used:\n",
    "\n",
    "    -npos 3950 -nneg 2973\n",
    "\n",
    "It works. I also noticed that [others have also had success with reducing numPos](https://stackoverflow.com/questions/10961763/haartraining-with-opencv-error/12271213#12271213)"
   ]
  },
  {
   "cell_type": "markdown",
   "metadata": {
    "slideshow": {
     "slide_type": "slide"
    }
   },
   "source": [
    "## Estimando numPos\n",
    "\n",
    "Para estimar el número de `numPos` que se va emplear en función del `numNeg` y del `minHitRate` cree la siguiente función,"
   ]
  },
  {
   "cell_type": "code",
   "execution_count": 12,
   "metadata": {
    "slideshow": {
     "slide_type": "subslide"
    }
   },
   "outputs": [],
   "source": [
    "def numPos(TotalPositives,numNeg,stages,minHitRate):\n",
    "    return (TotalPositives-numNeg)/(1+(stages-1)*(1-minHitRate))"
   ]
  },
  {
   "cell_type": "markdown",
   "metadata": {
    "slideshow": {
     "slide_type": "fragment"
    }
   },
   "source": [
    "Así, para una muestra de 4416 imagenes positivas en total(en el archivo binario vectorial), con 600 negativas en total (de acuerdo a la lista de anotaciones), para 20 stages y con un minHitRate de 0.999 se le deben pasar,"
   ]
  },
  {
   "cell_type": "code",
   "execution_count": 13,
   "metadata": {
    "slideshow": {
     "slide_type": "fragment"
    }
   },
   "outputs": [
    {
     "data": {
      "text/plain": [
       "3744.8478900883215"
      ]
     },
     "execution_count": 13,
     "metadata": {},
     "output_type": "execute_result"
    }
   ],
   "source": [
    "numPos(4416,600,20,0.999)"
   ]
  },
  {
   "cell_type": "markdown",
   "metadata": {
    "slideshow": {
     "slide_type": "subslide"
    }
   },
   "source": [
    "Por lo tanto, en `opencv_traincascade` se le deben ingresar los argumentos `--numPos 3744` y `--numNeg 600` para un entrenamiento, en teoría, garantizado."
   ]
  },
  {
   "cell_type": "markdown",
   "metadata": {
    "slideshow": {
     "slide_type": "fragment"
    }
   },
   "source": [
    "Por ejemplo, para un conjunto muy pequeño de 52 imágenes positivas, bastará pasar `--numPos 41` y `--numNeg 10`\n",
    "tal como lo sugiere el cálculo,"
   ]
  },
  {
   "cell_type": "code",
   "execution_count": 14,
   "metadata": {
    "slideshow": {
     "slide_type": "fragment"
    }
   },
   "outputs": [
    {
     "data": {
      "text/plain": [
       "41.216879293424924"
      ]
     },
     "execution_count": 14,
     "metadata": {},
     "output_type": "execute_result"
    }
   ],
   "source": [
    "numPos(52,10,20,0.999)"
   ]
  },
  {
   "cell_type": "markdown",
   "metadata": {
    "slideshow": {
     "slide_type": "slide"
    }
   },
   "source": [
    "## Referencias\n",
    "\n",
    "Documentación principal\n",
    "* [1] https://docs.opencv.org/3.3.0/dc/d88/tutorial_traincascade.html  \n",
    "* [2] https://docs.opencv.org/3.0-beta/modules/objdetect/doc/cascade_classification.html  \n",
    "* [3] http://www.technolabsz.com/2011/08/how-to-do-opencv-haar-training.html  \n",
    "\n",
    "Tutorial de cómo cargar y utilizar un xml de un clasificador ya entrenado (c++)\n",
    "* [4] https://docs.opencv.org/3.3.0/db/d28/tutorial_cascade_classifier.html  \n",
    "\n",
    "Algunos tutoriales relacionados (y algo desactualizados)\n",
    "* [5] http://coding-robin.de/2013/07/22/train-your-own-opencv-haar-classifier.html  \n",
    "* [6] https://github.com/dan-silver/haar-classifier-generator  \n",
    "* [7] http://note.sonots.com/SciSoftware/haartraining.html  \n",
    "* [8] https://www.cs.auckland.ac.nz/~m.rezaei/Tutorials/Creating_a_Cascade_of_Haar-Like_Classifiers_Step_by_Step.pdf  \n",
    "\n",
    "Stackoverflow relacionados,\n",
    "\n",
    "* [9] https://stackoverflow.com/questions/10863560/haar-training-opencv-assertion-failed\n",
    "* [10] https://stackoverflow.com/questions/16058080/how-to-train-cascade-properly\n",
    "\n",
    "Bases de datos,\n",
    "\n",
    "* [University of South Florida, Digital Mammography Home Page](http://marathon.csee.usf.edu/Mammography/Database.html)  \n",
    "* [Github](http://github.com)"
   ]
  }
 ],
 "metadata": {
  "celltoolbar": "Slideshow",
  "kernelspec": {
   "display_name": "Python 3",
   "language": "python",
   "name": "python3"
  },
  "language_info": {
   "codemirror_mode": {
    "name": "ipython",
    "version": 3
   },
   "file_extension": ".py",
   "mimetype": "text/x-python",
   "name": "python",
   "nbconvert_exporter": "python",
   "pygments_lexer": "ipython3",
   "version": "3.6.4rc1"
  }
 },
 "nbformat": 4,
 "nbformat_minor": 2
}
