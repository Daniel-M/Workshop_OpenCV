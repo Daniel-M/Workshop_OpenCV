{
 "cells": [
  {
   "cell_type": "markdown",
   "metadata": {
    "slideshow": {
     "slide_type": "slide"
    }
   },
   "source": [
    "# Taller de OpenCV 3.3.0 con Python 3\n",
    "# Instalando OpenCV desde el código fuente\n",
    "## Daniel Mejía Raigosa\n",
    "### danielmejia55@gmail.com\n",
    "#### Diciembre 19, 2017 "
   ]
  },
  {
   "cell_type": "markdown",
   "metadata": {
    "slideshow": {
     "slide_type": "slide"
    }
   },
   "source": [
    "# Instalando OpenCV (3.3.0)\n",
    "\n",
    "Vamos a detallar la instalación de la versión 3.3.0 de la librería de OpenCV para python3 y C/C++ con soporte para las siguientes características,\n",
    "\n",
    "* OpenMP  \n",
    "* OpenCL  \n",
    "* GDAL  \n",
    "* PNG  \n",
    "* JPEG  \n",
    "* TIFF  \n",
    "* FFMPEG  \n",
    "* OpenGL  \n",
    "* TBB (Threading para máquinas intel)  \n",
    "\n",
    "\n",
    "\n",
    "## Prerequisitos de sistema\n",
    "\n",
    "* Conexiónn a internet\n",
    "* Sistema basado en Debian, como Ubuntu"
   ]
  },
  {
   "cell_type": "markdown",
   "metadata": {
    "slideshow": {
     "slide_type": "slide"
    }
   },
   "source": [
    "## Instalar Prerequisitos\n",
    "\n",
    "Es necesario tener instalado la siguiente lista de prerequisitos,\n",
    "\n",
    "* `apt install git cmake make` para compilar  \n",
    "* `apt install ocl-icd-libopencl1 libgdal-dev libjpeg-dev libpng-dev libtiff5-dev`  \n",
    "* `apt install libopenblas-dev openmp-bin` librería OpenBLAS\n",
    "* `apt install libavformat-dev libavutil-dev libavresample-dev libswscale-dev libv4l-dev`  \n",
    "\n",
    "y para tener OpenCV en Python3 se requiere instalar,\n",
    "\n",
    "* `apt install python3-pip`\n",
    "* `pip3 install --upgrade numpy`"
   ]
  },
  {
   "cell_type": "markdown",
   "metadata": {
    "slideshow": {
     "slide_type": "slide"
    }
   },
   "source": [
    "### Prerequisitos extras o dependientes de la máquina\n",
    "\n",
    "\n",
    "#### Intel\n",
    "\n",
    "* `apt intall libtbb-dev` para soporte multithreading en máquinas intel  \n",
    "\n",
    "Es necesario instalar Intel Integrated Performance Primitives (IPP) libraries descargado desde la página de intel, https://software.intel.com/en-us/intel-ipp/. Requiere registro y se habilita la descarga gratuíta de las librerías.\n",
    "La instalación es directa mediante el script `install.sh` como usuario `root`."
   ]
  },
  {
   "cell_type": "markdown",
   "metadata": {
    "slideshow": {
     "slide_type": "subslide"
    }
   },
   "source": [
    "#### AMD\n",
    "\n",
    "#### con CUDA\n",
    "\n",
    "Es necesario instalar CUDA descargando los paquetes desde https://developer.nvidia.com/cuda-downloads, y siguiendo los pasos de las guías que se encuentran allí.\n",
    "\n",
    "Para Ubuntu, y en resumen se decarga el paquete `cuda-repo-ubuntu1604-9-0-local_9.0.176-1_amd64.deb` y se instala como,\n",
    "\n",
    "* `sudo dpkg -i cuda-repo-ubuntu1604-9-0-local_9.0.176-1_amd64.deb`\n",
    "* `sudo apt-key add /var/cuda-repo-<version>/7fa2af80.pub`\n",
    "* `sudo apt-get update`\n",
    "* `sudo apt-get install cuda`\n",
    "\n",
    "luego es necesario incluir la ruta  `/usr/local/cuda-9.0/` en el `PATH`, lo cual se logra con `export PATH=/usr/local/cuda-9.0/bin${PATH:+:${PATH}}`"
   ]
  },
  {
   "cell_type": "markdown",
   "metadata": {
    "slideshow": {
     "slide_type": "slide"
    }
   },
   "source": [
    "## Obteniendo el código fuente\n",
    "Se puede descargar la versión 3.3.0 de OpenCv desde la página [https://opencv.org](https://opencv.org), o decargar el ćodigo fuente desde los repositorios de github,\n",
    "\n",
    "```\n",
    "git clone https://github.com/opencv/opencv.git\n",
    "```"
   ]
  },
  {
   "cell_type": "markdown",
   "metadata": {
    "slideshow": {
     "slide_type": "slide"
    }
   },
   "source": [
    "## Compilando OpenCV\n",
    "\n",
    "Se compila con soporte para Python3 únicamente, pero esta opción puede cambiarse en el paso de generación de Makefiles con CMake\n",
    "\n",
    "### Preparar la instalación\n",
    "\n",
    "Después de descargar el repositorio se ingresa a él y se crea un directorio llamado `build` donde cmake será compilado para su posterior instalación\n",
    "\n",
    "```\n",
    "cd opencv\n",
    "mkdir build\n",
    "cd build\n",
    "```\n",
    "\n",
    "Una vez dentro de `build` la instalción se configura con la orden,"
   ]
  },
  {
   "cell_type": "markdown",
   "metadata": {
    "slideshow": {
     "slide_type": "subslide"
    }
   },
   "source": [
    "### Generar makefiles con CMake\n",
    "\n",
    "Para instalar el paquete estándar de parallelo.ai se procede a configurar como,\n",
    "\n",
    "```\n",
    "cmake -DWITH_GDAL=ON -DWITH_OPENCL=ON -DWITH_OPENGL=ON -DWITH_OPENMP=ON -DWITH_PNG=ON -DWITH_FFMPEG=ON -DWTIH_JPEG=ON -DWITH_TIFF=ON -DBUILD_opencv_python3=ON -DBUILD_opencv_python2=OFF ..\n",
    "```\n",
    "#### Máquinas Intel con TBB y IPP\n",
    "\n",
    "Además de las opciones anteriores, se añade,\n",
    "\n",
    "```\n",
    "-DWITH_TBB=ON -DWITH_IPP=ON\n",
    "```\n",
    "\n",
    "#### Máquinas con CUDA\n",
    "\n",
    "Además de las opciones anteriores, se añade,\n",
    "\n",
    "```\n",
    "-DWITH_CUDA=ON -DWITH_CUBLAS=ON -WITH_CUFFT=ON\n",
    "```\n",
    "Es muy importante tener CUDA adecuadamente incluído en el `PATH` para que la compilación concluya con éxito."
   ]
  },
  {
   "cell_type": "markdown",
   "metadata": {
    "slideshow": {
     "slide_type": "slide"
    }
   },
   "source": [
    "### Comentarios adicionales \n",
    "\n",
    "Es importante revisar el reporte final del CMake para confirmar que las configuraciones son correctas. En algunas ocasiones es necesario pasar la ruta completa a las librerías de Python3 pues los módulos de CMake no los encuentran."
   ]
  },
  {
   "cell_type": "markdown",
   "metadata": {
    "slideshow": {
     "slide_type": "slide"
    }
   },
   "source": [
    "### Compilar OpenCV\n",
    "\n",
    "Una vez finalizada la configuración, procedemos con la compilación invocando `make` dentro del directorio `build`\n",
    "\n",
    "```\n",
    "make -j5\n",
    "```\n",
    "\n",
    "Este paso ha de tomar algún tiempo dependiendo de las capacidades de la máquina."
   ]
  },
  {
   "cell_type": "markdown",
   "metadata": {
    "slideshow": {
     "slide_type": "slide"
    }
   },
   "source": [
    "### Instalación\n",
    "\n",
    "Con OpenCV configurado y compilado, la instalación se ejecuta como `root` desde dentro del directorio `build` mediante,\n",
    "\n",
    "``` sh\n",
    "make install\n",
    "```"
   ]
  },
  {
   "cell_type": "markdown",
   "metadata": {
    "slideshow": {
     "slide_type": "slide"
    }
   },
   "source": [
    "## Verificando la instalación\n",
    "\n",
    "Abrir una consola y ejecutar\n",
    "\n",
    "```\n",
    "python3 -c \"import cv2\"\n",
    "```\n",
    "\n",
    "Si no reporta ningún error la instalación se concluyó de forma exitosa"
   ]
  },
  {
   "cell_type": "code",
   "execution_count": null,
   "metadata": {},
   "outputs": [],
   "source": []
  }
 ],
 "metadata": {
  "celltoolbar": "Slideshow",
  "kernelspec": {
   "display_name": "Python 3",
   "language": "python",
   "name": "python3"
  },
  "language_info": {
   "codemirror_mode": {
    "name": "ipython",
    "version": 3
   },
   "file_extension": ".py",
   "mimetype": "text/x-python",
   "name": "python",
   "nbconvert_exporter": "python",
   "pygments_lexer": "ipython3",
   "version": "3.6.4rc1"
  }
 },
 "nbformat": 4,
 "nbformat_minor": 2
}
